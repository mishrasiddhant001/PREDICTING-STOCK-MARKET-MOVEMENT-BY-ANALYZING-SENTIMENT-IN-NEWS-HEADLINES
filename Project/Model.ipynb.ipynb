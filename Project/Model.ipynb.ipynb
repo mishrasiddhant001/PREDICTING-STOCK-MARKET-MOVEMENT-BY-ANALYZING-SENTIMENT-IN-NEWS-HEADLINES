{
  "cells": [
    {
      "cell_type": "code",
      "execution_count": null,
      "metadata": {
        "id": "mFFM1oGP_W8p"
      },
      "outputs": [],
      "source": [
        "import  pandas as pd\n",
        "# used for making data-frames(structured table) #data will be in csv file"
      ]
    },
    {
      "cell_type": "code",
      "execution_count": null,
      "metadata": {
        "id": "YSzVQcdr_ZJI"
      },
      "outputs": [],
      "source": [
        "df = pd.read_csv('/content/IndianFinancialNews.csv', encoding='ISO-8859-1')\n",
        "# encoding='ISO-8859-1': This parameter specifies the character encoding to be used while reading the CSV file\n",
        "# it can handle characters that are not in the ASCII character set\n",
        "# ISO 8859-1 is a single-byte encoding that can represent the first 256 Unicode characters. unlike UTF-8 which is a multibyte encoding that can represent any Unicode character."
      ]
    },
    {
      "cell_type": "code",
      "execution_count": null,
      "metadata": {
        "colab": {
          "base_uri": "https://localhost:8080/",
          "height": 423
        },
        "id": "CZJkWVZ3AyWs",
        "outputId": "8a5b21ea-6ee4-4a2f-9284-3a9798a0be7e"
      },
      "outputs": [
        {
          "output_type": "execute_result",
          "data": {
            "text/plain": [
              "             Date                                        Description\n",
              "0      2020-05-26  ATMs to become virtual bank branches, accept d...\n",
              "1      2020-05-26  IDFC First Bank seniors to forgo 65% of bonus ...\n",
              "2      2020-05-25  Huge scam in YES Bank for many years, says Enf...\n",
              "3      2020-05-24  Bank of Maharashtra sanctioned Rs 2,789 cr in ...\n",
              "4      2020-05-23  DCB Bank's profit before tax declines 37.6% to...\n",
              "...           ...                                                ...\n",
              "49994  2003-02-11  Lic Mops Up Government Securities As Prices Cr...\n",
              "49995  2003-02-11  Banks Plan To Raise Lending Rates Without Alte...\n",
              "49996  2003-02-10  Net Scheduled Inflows Of Rs 1,559.9 Crore Net ...\n",
              "49997  2003-02-10  Rbi Calls Meet To Push Floating Rate Deposits ...\n",
              "49998  2003-02-10  Sticky Loans Divide Consortiums Sticky Loans D...\n",
              "\n",
              "[49999 rows x 2 columns]"
            ],
            "text/html": [
              "\n",
              "  <div id=\"df-654f3908-f7f0-45f4-b1dc-8cc8dd8da6d4\" class=\"colab-df-container\">\n",
              "    <div>\n",
              "<style scoped>\n",
              "    .dataframe tbody tr th:only-of-type {\n",
              "        vertical-align: middle;\n",
              "    }\n",
              "\n",
              "    .dataframe tbody tr th {\n",
              "        vertical-align: top;\n",
              "    }\n",
              "\n",
              "    .dataframe thead th {\n",
              "        text-align: right;\n",
              "    }\n",
              "</style>\n",
              "<table border=\"1\" class=\"dataframe\">\n",
              "  <thead>\n",
              "    <tr style=\"text-align: right;\">\n",
              "      <th></th>\n",
              "      <th>Date</th>\n",
              "      <th>Description</th>\n",
              "    </tr>\n",
              "  </thead>\n",
              "  <tbody>\n",
              "    <tr>\n",
              "      <th>0</th>\n",
              "      <td>2020-05-26</td>\n",
              "      <td>ATMs to become virtual bank branches, accept d...</td>\n",
              "    </tr>\n",
              "    <tr>\n",
              "      <th>1</th>\n",
              "      <td>2020-05-26</td>\n",
              "      <td>IDFC First Bank seniors to forgo 65% of bonus ...</td>\n",
              "    </tr>\n",
              "    <tr>\n",
              "      <th>2</th>\n",
              "      <td>2020-05-25</td>\n",
              "      <td>Huge scam in YES Bank for many years, says Enf...</td>\n",
              "    </tr>\n",
              "    <tr>\n",
              "      <th>3</th>\n",
              "      <td>2020-05-24</td>\n",
              "      <td>Bank of Maharashtra sanctioned Rs 2,789 cr in ...</td>\n",
              "    </tr>\n",
              "    <tr>\n",
              "      <th>4</th>\n",
              "      <td>2020-05-23</td>\n",
              "      <td>DCB Bank's profit before tax declines 37.6% to...</td>\n",
              "    </tr>\n",
              "    <tr>\n",
              "      <th>...</th>\n",
              "      <td>...</td>\n",
              "      <td>...</td>\n",
              "    </tr>\n",
              "    <tr>\n",
              "      <th>49994</th>\n",
              "      <td>2003-02-11</td>\n",
              "      <td>Lic Mops Up Government Securities As Prices Cr...</td>\n",
              "    </tr>\n",
              "    <tr>\n",
              "      <th>49995</th>\n",
              "      <td>2003-02-11</td>\n",
              "      <td>Banks Plan To Raise Lending Rates Without Alte...</td>\n",
              "    </tr>\n",
              "    <tr>\n",
              "      <th>49996</th>\n",
              "      <td>2003-02-10</td>\n",
              "      <td>Net Scheduled Inflows Of Rs 1,559.9 Crore Net ...</td>\n",
              "    </tr>\n",
              "    <tr>\n",
              "      <th>49997</th>\n",
              "      <td>2003-02-10</td>\n",
              "      <td>Rbi Calls Meet To Push Floating Rate Deposits ...</td>\n",
              "    </tr>\n",
              "    <tr>\n",
              "      <th>49998</th>\n",
              "      <td>2003-02-10</td>\n",
              "      <td>Sticky Loans Divide Consortiums Sticky Loans D...</td>\n",
              "    </tr>\n",
              "  </tbody>\n",
              "</table>\n",
              "<p>49999 rows × 2 columns</p>\n",
              "</div>\n",
              "    <div class=\"colab-df-buttons\">\n",
              "\n",
              "  <div class=\"colab-df-container\">\n",
              "    <button class=\"colab-df-convert\" onclick=\"convertToInteractive('df-654f3908-f7f0-45f4-b1dc-8cc8dd8da6d4')\"\n",
              "            title=\"Convert this dataframe to an interactive table.\"\n",
              "            style=\"display:none;\">\n",
              "\n",
              "  <svg xmlns=\"http://www.w3.org/2000/svg\" height=\"24px\" viewBox=\"0 -960 960 960\">\n",
              "    <path d=\"M120-120v-720h720v720H120Zm60-500h600v-160H180v160Zm220 220h160v-160H400v160Zm0 220h160v-160H400v160ZM180-400h160v-160H180v160Zm440 0h160v-160H620v160ZM180-180h160v-160H180v160Zm440 0h160v-160H620v160Z\"/>\n",
              "  </svg>\n",
              "    </button>\n",
              "\n",
              "  <style>\n",
              "    .colab-df-container {\n",
              "      display:flex;\n",
              "      gap: 12px;\n",
              "    }\n",
              "\n",
              "    .colab-df-convert {\n",
              "      background-color: #E8F0FE;\n",
              "      border: none;\n",
              "      border-radius: 50%;\n",
              "      cursor: pointer;\n",
              "      display: none;\n",
              "      fill: #1967D2;\n",
              "      height: 32px;\n",
              "      padding: 0 0 0 0;\n",
              "      width: 32px;\n",
              "    }\n",
              "\n",
              "    .colab-df-convert:hover {\n",
              "      background-color: #E2EBFA;\n",
              "      box-shadow: 0px 1px 2px rgba(60, 64, 67, 0.3), 0px 1px 3px 1px rgba(60, 64, 67, 0.15);\n",
              "      fill: #174EA6;\n",
              "    }\n",
              "\n",
              "    .colab-df-buttons div {\n",
              "      margin-bottom: 4px;\n",
              "    }\n",
              "\n",
              "    [theme=dark] .colab-df-convert {\n",
              "      background-color: #3B4455;\n",
              "      fill: #D2E3FC;\n",
              "    }\n",
              "\n",
              "    [theme=dark] .colab-df-convert:hover {\n",
              "      background-color: #434B5C;\n",
              "      box-shadow: 0px 1px 3px 1px rgba(0, 0, 0, 0.15);\n",
              "      filter: drop-shadow(0px 1px 2px rgba(0, 0, 0, 0.3));\n",
              "      fill: #FFFFFF;\n",
              "    }\n",
              "  </style>\n",
              "\n",
              "    <script>\n",
              "      const buttonEl =\n",
              "        document.querySelector('#df-654f3908-f7f0-45f4-b1dc-8cc8dd8da6d4 button.colab-df-convert');\n",
              "      buttonEl.style.display =\n",
              "        google.colab.kernel.accessAllowed ? 'block' : 'none';\n",
              "\n",
              "      async function convertToInteractive(key) {\n",
              "        const element = document.querySelector('#df-654f3908-f7f0-45f4-b1dc-8cc8dd8da6d4');\n",
              "        const dataTable =\n",
              "          await google.colab.kernel.invokeFunction('convertToInteractive',\n",
              "                                                    [key], {});\n",
              "        if (!dataTable) return;\n",
              "\n",
              "        const docLinkHtml = 'Like what you see? Visit the ' +\n",
              "          '<a target=\"_blank\" href=https://colab.research.google.com/notebooks/data_table.ipynb>data table notebook</a>'\n",
              "          + ' to learn more about interactive tables.';\n",
              "        element.innerHTML = '';\n",
              "        dataTable['output_type'] = 'display_data';\n",
              "        await google.colab.output.renderOutput(dataTable, element);\n",
              "        const docLink = document.createElement('div');\n",
              "        docLink.innerHTML = docLinkHtml;\n",
              "        element.appendChild(docLink);\n",
              "      }\n",
              "    </script>\n",
              "  </div>\n",
              "\n",
              "\n",
              "<div id=\"df-fa5d8894-ba16-4439-91c2-e54d80d04e71\">\n",
              "  <button class=\"colab-df-quickchart\" onclick=\"quickchart('df-fa5d8894-ba16-4439-91c2-e54d80d04e71')\"\n",
              "            title=\"Suggest charts\"\n",
              "            style=\"display:none;\">\n",
              "\n",
              "<svg xmlns=\"http://www.w3.org/2000/svg\" height=\"24px\"viewBox=\"0 0 24 24\"\n",
              "     width=\"24px\">\n",
              "    <g>\n",
              "        <path d=\"M19 3H5c-1.1 0-2 .9-2 2v14c0 1.1.9 2 2 2h14c1.1 0 2-.9 2-2V5c0-1.1-.9-2-2-2zM9 17H7v-7h2v7zm4 0h-2V7h2v10zm4 0h-2v-4h2v4z\"/>\n",
              "    </g>\n",
              "</svg>\n",
              "  </button>\n",
              "\n",
              "<style>\n",
              "  .colab-df-quickchart {\n",
              "      --bg-color: #E8F0FE;\n",
              "      --fill-color: #1967D2;\n",
              "      --hover-bg-color: #E2EBFA;\n",
              "      --hover-fill-color: #174EA6;\n",
              "      --disabled-fill-color: #AAA;\n",
              "      --disabled-bg-color: #DDD;\n",
              "  }\n",
              "\n",
              "  [theme=dark] .colab-df-quickchart {\n",
              "      --bg-color: #3B4455;\n",
              "      --fill-color: #D2E3FC;\n",
              "      --hover-bg-color: #434B5C;\n",
              "      --hover-fill-color: #FFFFFF;\n",
              "      --disabled-bg-color: #3B4455;\n",
              "      --disabled-fill-color: #666;\n",
              "  }\n",
              "\n",
              "  .colab-df-quickchart {\n",
              "    background-color: var(--bg-color);\n",
              "    border: none;\n",
              "    border-radius: 50%;\n",
              "    cursor: pointer;\n",
              "    display: none;\n",
              "    fill: var(--fill-color);\n",
              "    height: 32px;\n",
              "    padding: 0;\n",
              "    width: 32px;\n",
              "  }\n",
              "\n",
              "  .colab-df-quickchart:hover {\n",
              "    background-color: var(--hover-bg-color);\n",
              "    box-shadow: 0 1px 2px rgba(60, 64, 67, 0.3), 0 1px 3px 1px rgba(60, 64, 67, 0.15);\n",
              "    fill: var(--button-hover-fill-color);\n",
              "  }\n",
              "\n",
              "  .colab-df-quickchart-complete:disabled,\n",
              "  .colab-df-quickchart-complete:disabled:hover {\n",
              "    background-color: var(--disabled-bg-color);\n",
              "    fill: var(--disabled-fill-color);\n",
              "    box-shadow: none;\n",
              "  }\n",
              "\n",
              "  .colab-df-spinner {\n",
              "    border: 2px solid var(--fill-color);\n",
              "    border-color: transparent;\n",
              "    border-bottom-color: var(--fill-color);\n",
              "    animation:\n",
              "      spin 1s steps(1) infinite;\n",
              "  }\n",
              "\n",
              "  @keyframes spin {\n",
              "    0% {\n",
              "      border-color: transparent;\n",
              "      border-bottom-color: var(--fill-color);\n",
              "      border-left-color: var(--fill-color);\n",
              "    }\n",
              "    20% {\n",
              "      border-color: transparent;\n",
              "      border-left-color: var(--fill-color);\n",
              "      border-top-color: var(--fill-color);\n",
              "    }\n",
              "    30% {\n",
              "      border-color: transparent;\n",
              "      border-left-color: var(--fill-color);\n",
              "      border-top-color: var(--fill-color);\n",
              "      border-right-color: var(--fill-color);\n",
              "    }\n",
              "    40% {\n",
              "      border-color: transparent;\n",
              "      border-right-color: var(--fill-color);\n",
              "      border-top-color: var(--fill-color);\n",
              "    }\n",
              "    60% {\n",
              "      border-color: transparent;\n",
              "      border-right-color: var(--fill-color);\n",
              "    }\n",
              "    80% {\n",
              "      border-color: transparent;\n",
              "      border-right-color: var(--fill-color);\n",
              "      border-bottom-color: var(--fill-color);\n",
              "    }\n",
              "    90% {\n",
              "      border-color: transparent;\n",
              "      border-bottom-color: var(--fill-color);\n",
              "    }\n",
              "  }\n",
              "</style>\n",
              "\n",
              "  <script>\n",
              "    async function quickchart(key) {\n",
              "      const quickchartButtonEl =\n",
              "        document.querySelector('#' + key + ' button');\n",
              "      quickchartButtonEl.disabled = true;  // To prevent multiple clicks.\n",
              "      quickchartButtonEl.classList.add('colab-df-spinner');\n",
              "      try {\n",
              "        const charts = await google.colab.kernel.invokeFunction(\n",
              "            'suggestCharts', [key], {});\n",
              "      } catch (error) {\n",
              "        console.error('Error during call to suggestCharts:', error);\n",
              "      }\n",
              "      quickchartButtonEl.classList.remove('colab-df-spinner');\n",
              "      quickchartButtonEl.classList.add('colab-df-quickchart-complete');\n",
              "    }\n",
              "    (() => {\n",
              "      let quickchartButtonEl =\n",
              "        document.querySelector('#df-fa5d8894-ba16-4439-91c2-e54d80d04e71 button');\n",
              "      quickchartButtonEl.style.display =\n",
              "        google.colab.kernel.accessAllowed ? 'block' : 'none';\n",
              "    })();\n",
              "  </script>\n",
              "</div>\n",
              "\n",
              "  <div id=\"id_0d9a6290-97d3-4986-bc18-1c8b4d5dd35f\">\n",
              "    <style>\n",
              "      .colab-df-generate {\n",
              "        background-color: #E8F0FE;\n",
              "        border: none;\n",
              "        border-radius: 50%;\n",
              "        cursor: pointer;\n",
              "        display: none;\n",
              "        fill: #1967D2;\n",
              "        height: 32px;\n",
              "        padding: 0 0 0 0;\n",
              "        width: 32px;\n",
              "      }\n",
              "\n",
              "      .colab-df-generate:hover {\n",
              "        background-color: #E2EBFA;\n",
              "        box-shadow: 0px 1px 2px rgba(60, 64, 67, 0.3), 0px 1px 3px 1px rgba(60, 64, 67, 0.15);\n",
              "        fill: #174EA6;\n",
              "      }\n",
              "\n",
              "      [theme=dark] .colab-df-generate {\n",
              "        background-color: #3B4455;\n",
              "        fill: #D2E3FC;\n",
              "      }\n",
              "\n",
              "      [theme=dark] .colab-df-generate:hover {\n",
              "        background-color: #434B5C;\n",
              "        box-shadow: 0px 1px 3px 1px rgba(0, 0, 0, 0.15);\n",
              "        filter: drop-shadow(0px 1px 2px rgba(0, 0, 0, 0.3));\n",
              "        fill: #FFFFFF;\n",
              "      }\n",
              "    </style>\n",
              "    <button class=\"colab-df-generate\" onclick=\"generateWithVariable('df')\"\n",
              "            title=\"Generate code using this dataframe.\"\n",
              "            style=\"display:none;\">\n",
              "\n",
              "  <svg xmlns=\"http://www.w3.org/2000/svg\" height=\"24px\"viewBox=\"0 0 24 24\"\n",
              "       width=\"24px\">\n",
              "    <path d=\"M7,19H8.4L18.45,9,17,7.55,7,17.6ZM5,21V16.75L18.45,3.32a2,2,0,0,1,2.83,0l1.4,1.43a1.91,1.91,0,0,1,.58,1.4,1.91,1.91,0,0,1-.58,1.4L9.25,21ZM18.45,9,17,7.55Zm-12,3A5.31,5.31,0,0,0,4.9,8.1,5.31,5.31,0,0,0,1,6.5,5.31,5.31,0,0,0,4.9,4.9,5.31,5.31,0,0,0,6.5,1,5.31,5.31,0,0,0,8.1,4.9,5.31,5.31,0,0,0,12,6.5,5.46,5.46,0,0,0,6.5,12Z\"/>\n",
              "  </svg>\n",
              "    </button>\n",
              "    <script>\n",
              "      (() => {\n",
              "      const buttonEl =\n",
              "        document.querySelector('#id_0d9a6290-97d3-4986-bc18-1c8b4d5dd35f button.colab-df-generate');\n",
              "      buttonEl.style.display =\n",
              "        google.colab.kernel.accessAllowed ? 'block' : 'none';\n",
              "\n",
              "      buttonEl.onclick = () => {\n",
              "        google.colab.notebook.generateWithVariable('df');\n",
              "      }\n",
              "      })();\n",
              "    </script>\n",
              "  </div>\n",
              "\n",
              "    </div>\n",
              "  </div>\n"
            ],
            "application/vnd.google.colaboratory.intrinsic+json": {
              "type": "dataframe",
              "variable_name": "df",
              "summary": "{\n  \"name\": \"df\",\n  \"rows\": 49999,\n  \"fields\": [\n    {\n      \"column\": \"Date\",\n      \"properties\": {\n        \"dtype\": \"object\",\n        \"num_unique_values\": 6068,\n        \"samples\": [\n          \"2012-09-03\",\n          \"2012-10-15\",\n          \"2005-03-31\"\n        ],\n        \"semantic_type\": \"\",\n        \"description\": \"\"\n      }\n    },\n    {\n      \"column\": \"Description\",\n      \"properties\": {\n        \"dtype\": \"string\",\n        \"num_unique_values\": 49216,\n        \"samples\": [\n          \"Karnataka Bank plans to raise Rs 500 cr Karnataka Bank had earlier during January 2010 raised Rs 160 cr through the QIP route\",\n          \"Heavy govt borrowing to push up corporate bond yields It is a tough year ahead for private sector companies that wish to raise debt in 2012-13, as there are concerns that large ...\",\n          \"Rabo recasts Ugar Sugar debt Rabo India Finance has concluded a Rs 40 crore medium term debt restructuring exercise for Ugar Sugar Works Ltd (USWL), the ...\"\n        ],\n        \"semantic_type\": \"\",\n        \"description\": \"\"\n      }\n    }\n  ]\n}"
            }
          },
          "metadata": {},
          "execution_count": 3
        }
      ],
      "source": [
        "df\n",
        "# this is used to display the first few rows (by deafault 5)"
      ]
    },
    {
      "cell_type": "markdown",
      "metadata": {
        "id": "2CMsK9mLA4gH"
      },
      "source": [
        "**DATA PRE-PROCESSING**"
      ]
    },
    {
      "cell_type": "code",
      "execution_count": null,
      "metadata": {
        "id": "lpzwpbtVsInN"
      },
      "outputs": [],
      "source": [
        "import pandas as pd\n",
        "# used for making data-frames(structured table) #data will be in csv file\n",
        "from textblob import TextBlob\n",
        "#for natural language processing tasks like sentiment analysis and text classification"
      ]
    },
    {
      "cell_type": "code",
      "execution_count": null,
      "metadata": {
        "id": "X-xjEIGEQgY-"
      },
      "outputs": [],
      "source": [
        "# Load the dataset from CSV file\n",
        "df = pd.read_csv(\"/content/IndianFinancialNews.csv\")"
      ]
    },
    {
      "cell_type": "code",
      "execution_count": null,
      "metadata": {
        "id": "SPkcx-SSQhw4"
      },
      "outputs": [],
      "source": [
        "# Define a function to analyze sentiment which will take descriptionof each row as an input and return a label according to that\n",
        "\n",
        "def analyze_sentiment(description):\n",
        "    blob = TextBlob(description) #create a TextBlob object for the input text description\n",
        "    sentiment_score = blob.sentiment.polarity\n",
        "    # calculates the polarity of the text using TextBlob's sentiment analysis.\n",
        "    # The polarity ranges from -1 (very negative) to 1 (very positive). Values closer to 0 indicate neutrality.\n",
        "    if sentiment_score >= 0:\n",
        "        return 1  # Positive or neutral sentiment\n",
        "    else:\n",
        "        return 0  # Negative sentiment\n",
        "\n",
        "# This function applies the analyze_sentiment function defined earlier to each description in the DataFrame df\n",
        "# and adds a new column called 'Label' containing the sentiment analysis result.\n",
        "\n",
        "def add_sentiment_label(df):\n",
        "    df['Label'] = df['Description'].apply(analyze_sentiment) # assign the sentiment computed previously to a new column called 'Label' in the df.\n",
        "    return df[['Date', 'Label', 'Description']]  # return a subset of the DataFrame containing only the 'Date', 'Label', and 'Description' columns\n",
        "\n",
        "# Apply sentiment analysis and add label column\n",
        "df_with_label = add_sentiment_label(df)"
      ]
    },
    {
      "cell_type": "code",
      "execution_count": null,
      "metadata": {
        "colab": {
          "base_uri": "https://localhost:8080/",
          "height": 512
        },
        "id": "y84-fuNxQsKP",
        "outputId": "40c37b26-d982-4722-a901-4081c0b4bbdd"
      },
      "outputs": [
        {
          "output_type": "stream",
          "name": "stdout",
          "text": [
            "             Date  Label                                        Description\n",
            "0      2020-05-26      1  ATMs to become virtual bank branches, accept d...\n",
            "1      2020-05-26      1  IDFC First Bank seniors to forgo 65% of bonus ...\n",
            "2      2020-05-25      1  Huge scam in YES Bank for many years, says Enf...\n",
            "3      2020-05-24      1  Bank of Maharashtra sanctioned Rs 2,789 cr in ...\n",
            "4      2020-05-23      1  DCB Bank's profit before tax declines 37.6% to...\n",
            "...           ...    ...                                                ...\n",
            "49994  2003-02-11      1  Lic Mops Up Government Securities As Prices Cr...\n",
            "49995  2003-02-11      1  Banks Plan To Raise Lending Rates Without Alte...\n",
            "49996  2003-02-10      1  Net Scheduled Inflows Of Rs 1,559.9 Crore Net ...\n",
            "49997  2003-02-10      1  Rbi Calls Meet To Push Floating Rate Deposits ...\n",
            "49998  2003-02-10      1  Sticky Loans Divide Consortiums Sticky Loans D...\n",
            "\n",
            "[49999 rows x 3 columns]\n"
          ]
        },
        {
          "output_type": "execute_result",
          "data": {
            "text/plain": [
              "         Date  Label                                        Description\n",
              "0  2020-05-26      1  ATMs to become virtual bank branches, accept d...\n",
              "1  2020-05-26      1  IDFC First Bank seniors to forgo 65% of bonus ...\n",
              "2  2020-05-25      1  Huge scam in YES Bank for many years, says Enf...\n",
              "3  2020-05-24      1  Bank of Maharashtra sanctioned Rs 2,789 cr in ...\n",
              "4  2020-05-23      1  DCB Bank's profit before tax declines 37.6% to...\n",
              "5  2020-05-23      1  Bank of Baroda to advance Rs 12,000 crore to M...\n",
              "6  2020-05-22      0  Retail, MSME loans to get cheaper as RBI cuts ..."
            ],
            "text/html": [
              "\n",
              "  <div id=\"df-289ccced-f2f9-4fa8-8506-e473a56e0130\" class=\"colab-df-container\">\n",
              "    <div>\n",
              "<style scoped>\n",
              "    .dataframe tbody tr th:only-of-type {\n",
              "        vertical-align: middle;\n",
              "    }\n",
              "\n",
              "    .dataframe tbody tr th {\n",
              "        vertical-align: top;\n",
              "    }\n",
              "\n",
              "    .dataframe thead th {\n",
              "        text-align: right;\n",
              "    }\n",
              "</style>\n",
              "<table border=\"1\" class=\"dataframe\">\n",
              "  <thead>\n",
              "    <tr style=\"text-align: right;\">\n",
              "      <th></th>\n",
              "      <th>Date</th>\n",
              "      <th>Label</th>\n",
              "      <th>Description</th>\n",
              "    </tr>\n",
              "  </thead>\n",
              "  <tbody>\n",
              "    <tr>\n",
              "      <th>0</th>\n",
              "      <td>2020-05-26</td>\n",
              "      <td>1</td>\n",
              "      <td>ATMs to become virtual bank branches, accept d...</td>\n",
              "    </tr>\n",
              "    <tr>\n",
              "      <th>1</th>\n",
              "      <td>2020-05-26</td>\n",
              "      <td>1</td>\n",
              "      <td>IDFC First Bank seniors to forgo 65% of bonus ...</td>\n",
              "    </tr>\n",
              "    <tr>\n",
              "      <th>2</th>\n",
              "      <td>2020-05-25</td>\n",
              "      <td>1</td>\n",
              "      <td>Huge scam in YES Bank for many years, says Enf...</td>\n",
              "    </tr>\n",
              "    <tr>\n",
              "      <th>3</th>\n",
              "      <td>2020-05-24</td>\n",
              "      <td>1</td>\n",
              "      <td>Bank of Maharashtra sanctioned Rs 2,789 cr in ...</td>\n",
              "    </tr>\n",
              "    <tr>\n",
              "      <th>4</th>\n",
              "      <td>2020-05-23</td>\n",
              "      <td>1</td>\n",
              "      <td>DCB Bank's profit before tax declines 37.6% to...</td>\n",
              "    </tr>\n",
              "    <tr>\n",
              "      <th>5</th>\n",
              "      <td>2020-05-23</td>\n",
              "      <td>1</td>\n",
              "      <td>Bank of Baroda to advance Rs 12,000 crore to M...</td>\n",
              "    </tr>\n",
              "    <tr>\n",
              "      <th>6</th>\n",
              "      <td>2020-05-22</td>\n",
              "      <td>0</td>\n",
              "      <td>Retail, MSME loans to get cheaper as RBI cuts ...</td>\n",
              "    </tr>\n",
              "  </tbody>\n",
              "</table>\n",
              "</div>\n",
              "    <div class=\"colab-df-buttons\">\n",
              "\n",
              "  <div class=\"colab-df-container\">\n",
              "    <button class=\"colab-df-convert\" onclick=\"convertToInteractive('df-289ccced-f2f9-4fa8-8506-e473a56e0130')\"\n",
              "            title=\"Convert this dataframe to an interactive table.\"\n",
              "            style=\"display:none;\">\n",
              "\n",
              "  <svg xmlns=\"http://www.w3.org/2000/svg\" height=\"24px\" viewBox=\"0 -960 960 960\">\n",
              "    <path d=\"M120-120v-720h720v720H120Zm60-500h600v-160H180v160Zm220 220h160v-160H400v160Zm0 220h160v-160H400v160ZM180-400h160v-160H180v160Zm440 0h160v-160H620v160ZM180-180h160v-160H180v160Zm440 0h160v-160H620v160Z\"/>\n",
              "  </svg>\n",
              "    </button>\n",
              "\n",
              "  <style>\n",
              "    .colab-df-container {\n",
              "      display:flex;\n",
              "      gap: 12px;\n",
              "    }\n",
              "\n",
              "    .colab-df-convert {\n",
              "      background-color: #E8F0FE;\n",
              "      border: none;\n",
              "      border-radius: 50%;\n",
              "      cursor: pointer;\n",
              "      display: none;\n",
              "      fill: #1967D2;\n",
              "      height: 32px;\n",
              "      padding: 0 0 0 0;\n",
              "      width: 32px;\n",
              "    }\n",
              "\n",
              "    .colab-df-convert:hover {\n",
              "      background-color: #E2EBFA;\n",
              "      box-shadow: 0px 1px 2px rgba(60, 64, 67, 0.3), 0px 1px 3px 1px rgba(60, 64, 67, 0.15);\n",
              "      fill: #174EA6;\n",
              "    }\n",
              "\n",
              "    .colab-df-buttons div {\n",
              "      margin-bottom: 4px;\n",
              "    }\n",
              "\n",
              "    [theme=dark] .colab-df-convert {\n",
              "      background-color: #3B4455;\n",
              "      fill: #D2E3FC;\n",
              "    }\n",
              "\n",
              "    [theme=dark] .colab-df-convert:hover {\n",
              "      background-color: #434B5C;\n",
              "      box-shadow: 0px 1px 3px 1px rgba(0, 0, 0, 0.15);\n",
              "      filter: drop-shadow(0px 1px 2px rgba(0, 0, 0, 0.3));\n",
              "      fill: #FFFFFF;\n",
              "    }\n",
              "  </style>\n",
              "\n",
              "    <script>\n",
              "      const buttonEl =\n",
              "        document.querySelector('#df-289ccced-f2f9-4fa8-8506-e473a56e0130 button.colab-df-convert');\n",
              "      buttonEl.style.display =\n",
              "        google.colab.kernel.accessAllowed ? 'block' : 'none';\n",
              "\n",
              "      async function convertToInteractive(key) {\n",
              "        const element = document.querySelector('#df-289ccced-f2f9-4fa8-8506-e473a56e0130');\n",
              "        const dataTable =\n",
              "          await google.colab.kernel.invokeFunction('convertToInteractive',\n",
              "                                                    [key], {});\n",
              "        if (!dataTable) return;\n",
              "\n",
              "        const docLinkHtml = 'Like what you see? Visit the ' +\n",
              "          '<a target=\"_blank\" href=https://colab.research.google.com/notebooks/data_table.ipynb>data table notebook</a>'\n",
              "          + ' to learn more about interactive tables.';\n",
              "        element.innerHTML = '';\n",
              "        dataTable['output_type'] = 'display_data';\n",
              "        await google.colab.output.renderOutput(dataTable, element);\n",
              "        const docLink = document.createElement('div');\n",
              "        docLink.innerHTML = docLinkHtml;\n",
              "        element.appendChild(docLink);\n",
              "      }\n",
              "    </script>\n",
              "  </div>\n",
              "\n",
              "\n",
              "<div id=\"df-3e1c74bd-c270-4c1c-ad59-4d5b18fbf490\">\n",
              "  <button class=\"colab-df-quickchart\" onclick=\"quickchart('df-3e1c74bd-c270-4c1c-ad59-4d5b18fbf490')\"\n",
              "            title=\"Suggest charts\"\n",
              "            style=\"display:none;\">\n",
              "\n",
              "<svg xmlns=\"http://www.w3.org/2000/svg\" height=\"24px\"viewBox=\"0 0 24 24\"\n",
              "     width=\"24px\">\n",
              "    <g>\n",
              "        <path d=\"M19 3H5c-1.1 0-2 .9-2 2v14c0 1.1.9 2 2 2h14c1.1 0 2-.9 2-2V5c0-1.1-.9-2-2-2zM9 17H7v-7h2v7zm4 0h-2V7h2v10zm4 0h-2v-4h2v4z\"/>\n",
              "    </g>\n",
              "</svg>\n",
              "  </button>\n",
              "\n",
              "<style>\n",
              "  .colab-df-quickchart {\n",
              "      --bg-color: #E8F0FE;\n",
              "      --fill-color: #1967D2;\n",
              "      --hover-bg-color: #E2EBFA;\n",
              "      --hover-fill-color: #174EA6;\n",
              "      --disabled-fill-color: #AAA;\n",
              "      --disabled-bg-color: #DDD;\n",
              "  }\n",
              "\n",
              "  [theme=dark] .colab-df-quickchart {\n",
              "      --bg-color: #3B4455;\n",
              "      --fill-color: #D2E3FC;\n",
              "      --hover-bg-color: #434B5C;\n",
              "      --hover-fill-color: #FFFFFF;\n",
              "      --disabled-bg-color: #3B4455;\n",
              "      --disabled-fill-color: #666;\n",
              "  }\n",
              "\n",
              "  .colab-df-quickchart {\n",
              "    background-color: var(--bg-color);\n",
              "    border: none;\n",
              "    border-radius: 50%;\n",
              "    cursor: pointer;\n",
              "    display: none;\n",
              "    fill: var(--fill-color);\n",
              "    height: 32px;\n",
              "    padding: 0;\n",
              "    width: 32px;\n",
              "  }\n",
              "\n",
              "  .colab-df-quickchart:hover {\n",
              "    background-color: var(--hover-bg-color);\n",
              "    box-shadow: 0 1px 2px rgba(60, 64, 67, 0.3), 0 1px 3px 1px rgba(60, 64, 67, 0.15);\n",
              "    fill: var(--button-hover-fill-color);\n",
              "  }\n",
              "\n",
              "  .colab-df-quickchart-complete:disabled,\n",
              "  .colab-df-quickchart-complete:disabled:hover {\n",
              "    background-color: var(--disabled-bg-color);\n",
              "    fill: var(--disabled-fill-color);\n",
              "    box-shadow: none;\n",
              "  }\n",
              "\n",
              "  .colab-df-spinner {\n",
              "    border: 2px solid var(--fill-color);\n",
              "    border-color: transparent;\n",
              "    border-bottom-color: var(--fill-color);\n",
              "    animation:\n",
              "      spin 1s steps(1) infinite;\n",
              "  }\n",
              "\n",
              "  @keyframes spin {\n",
              "    0% {\n",
              "      border-color: transparent;\n",
              "      border-bottom-color: var(--fill-color);\n",
              "      border-left-color: var(--fill-color);\n",
              "    }\n",
              "    20% {\n",
              "      border-color: transparent;\n",
              "      border-left-color: var(--fill-color);\n",
              "      border-top-color: var(--fill-color);\n",
              "    }\n",
              "    30% {\n",
              "      border-color: transparent;\n",
              "      border-left-color: var(--fill-color);\n",
              "      border-top-color: var(--fill-color);\n",
              "      border-right-color: var(--fill-color);\n",
              "    }\n",
              "    40% {\n",
              "      border-color: transparent;\n",
              "      border-right-color: var(--fill-color);\n",
              "      border-top-color: var(--fill-color);\n",
              "    }\n",
              "    60% {\n",
              "      border-color: transparent;\n",
              "      border-right-color: var(--fill-color);\n",
              "    }\n",
              "    80% {\n",
              "      border-color: transparent;\n",
              "      border-right-color: var(--fill-color);\n",
              "      border-bottom-color: var(--fill-color);\n",
              "    }\n",
              "    90% {\n",
              "      border-color: transparent;\n",
              "      border-bottom-color: var(--fill-color);\n",
              "    }\n",
              "  }\n",
              "</style>\n",
              "\n",
              "  <script>\n",
              "    async function quickchart(key) {\n",
              "      const quickchartButtonEl =\n",
              "        document.querySelector('#' + key + ' button');\n",
              "      quickchartButtonEl.disabled = true;  // To prevent multiple clicks.\n",
              "      quickchartButtonEl.classList.add('colab-df-spinner');\n",
              "      try {\n",
              "        const charts = await google.colab.kernel.invokeFunction(\n",
              "            'suggestCharts', [key], {});\n",
              "      } catch (error) {\n",
              "        console.error('Error during call to suggestCharts:', error);\n",
              "      }\n",
              "      quickchartButtonEl.classList.remove('colab-df-spinner');\n",
              "      quickchartButtonEl.classList.add('colab-df-quickchart-complete');\n",
              "    }\n",
              "    (() => {\n",
              "      let quickchartButtonEl =\n",
              "        document.querySelector('#df-3e1c74bd-c270-4c1c-ad59-4d5b18fbf490 button');\n",
              "      quickchartButtonEl.style.display =\n",
              "        google.colab.kernel.accessAllowed ? 'block' : 'none';\n",
              "    })();\n",
              "  </script>\n",
              "</div>\n",
              "\n",
              "    </div>\n",
              "  </div>\n"
            ],
            "application/vnd.google.colaboratory.intrinsic+json": {
              "type": "dataframe",
              "variable_name": "df",
              "summary": "{\n  \"name\": \"df\",\n  \"rows\": 49999,\n  \"fields\": [\n    {\n      \"column\": \"Date\",\n      \"properties\": {\n        \"dtype\": \"object\",\n        \"num_unique_values\": 6068,\n        \"samples\": [\n          \"2012-09-03\",\n          \"2012-10-15\",\n          \"2005-03-31\"\n        ],\n        \"semantic_type\": \"\",\n        \"description\": \"\"\n      }\n    },\n    {\n      \"column\": \"Label\",\n      \"properties\": {\n        \"dtype\": \"number\",\n        \"std\": 0,\n        \"min\": 0,\n        \"max\": 1,\n        \"num_unique_values\": 2,\n        \"samples\": [\n          0,\n          1\n        ],\n        \"semantic_type\": \"\",\n        \"description\": \"\"\n      }\n    },\n    {\n      \"column\": \"Description\",\n      \"properties\": {\n        \"dtype\": \"string\",\n        \"num_unique_values\": 49216,\n        \"samples\": [\n          \"Karnataka Bank plans to raise Rs 500 cr Karnataka Bank had earlier during January 2010 raised Rs 160 cr through the QIP route\",\n          \"Heavy govt borrowing to push up corporate bond yields It is a tough year ahead for private sector companies that wish to raise debt in 2012-13, as there are concerns that large ...\"\n        ],\n        \"semantic_type\": \"\",\n        \"description\": \"\"\n      }\n    }\n  ]\n}"
            }
          },
          "metadata": {},
          "execution_count": 7
        }
      ],
      "source": [
        "# Display the updated DataFrame\n",
        "df = df_with_label\n",
        "print(df)\n",
        "df.head(7)"
      ]
    },
    {
      "cell_type": "code",
      "execution_count": null,
      "metadata": {
        "id": "2PNLp8-w_kfm"
      },
      "outputs": [],
      "source": [
        "# combine text data from multiple columns (columns 2 to 26) into a single column named 'Combined' in the DataFrame df.\n",
        "# Removing punctuations and other unecessary characters\n",
        "\n",
        "\n",
        "# selects all rows (:) and columns with integer indices from 2 to 26 (exclusive) (0-based indexing) from the train DataFrame\n",
        "text_columns = df_with_label.iloc[:, 2:3]\n",
        "\n",
        "# iloc: Integer-location based indexing.\n",
        "\n",
        "# Applying lambda function to combine text data into a single column\n",
        "\n",
        "# lambda function =>  user-defined functions but without a name\n",
        "\n",
        "combine_text = text_columns.apply(\n",
        "    lambda row: ' '.join([str(val) for val in row]),  # Joining each value in the row into a single string separated by a space\n",
        "    axis=1  # Applying the function across each row (axis=1)\n",
        ")\n",
        "\n",
        "# Assigning the combined text data to a new column 'Combined'\n",
        "df['Combined'] = combine_text"
      ]
    },
    {
      "cell_type": "code",
      "execution_count": null,
      "metadata": {
        "colab": {
          "base_uri": "https://localhost:8080/"
        },
        "id": "CmN4Qy0YD68J",
        "outputId": "059a348d-a606-4542-d495-f04582ef5c19"
      },
      "outputs": [
        {
          "output_type": "stream",
          "name": "stdout",
          "text": [
            "                                                Combined  Label\n",
            "0      ATMs to become virtual bank branches, accept d...      1\n",
            "1      IDFC First Bank seniors to forgo 65% of bonus ...      1\n",
            "2      Huge scam in YES Bank for many years, says Enf...      1\n",
            "3      Bank of Maharashtra sanctioned Rs 2,789 cr in ...      1\n",
            "4      DCB Bank's profit before tax declines 37.6% to...      1\n",
            "...                                                  ...    ...\n",
            "49994  Lic Mops Up Government Securities As Prices Cr...      1\n",
            "49995  Banks Plan To Raise Lending Rates Without Alte...      1\n",
            "49996  Net Scheduled Inflows Of Rs 1,559.9 Crore Net ...      1\n",
            "49997  Rbi Calls Meet To Push Floating Rate Deposits ...      1\n",
            "49998  Sticky Loans Divide Consortiums Sticky Loans D...      1\n",
            "\n",
            "[49999 rows x 2 columns]\n"
          ]
        }
      ],
      "source": [
        "# display the first few rows of the DataFrame df with the combined text data column 'Combined' and the corresponding label column 'Label'\n",
        "print(df[['Combined', 'Label']])\n",
        "\n",
        "# .head() can be used to print the top 5 and .tail() to print bottom 5"
      ]
    },
    {
      "cell_type": "code",
      "execution_count": null,
      "metadata": {
        "colab": {
          "base_uri": "https://localhost:8080/"
        },
        "id": "OY1EJDYJDwpl",
        "outputId": "4268a180-75fa-4059-834b-fefa07eb4677"
      },
      "outputs": [
        {
          "output_type": "stream",
          "name": "stdout",
          "text": [
            "0        ATMs to become virtual bank branches, accept d...\n",
            "1        IDFC First Bank seniors to forgo 65% of bonus ...\n",
            "2        Huge scam in YES Bank for many years, says Enf...\n",
            "3        Bank of Maharashtra sanctioned Rs 2,789 cr in ...\n",
            "4        DCB Bank's profit before tax declines 37.6% to...\n",
            "                               ...                        \n",
            "49994    Lic Mops Up Government Securities As Prices Cr...\n",
            "49995    Banks Plan To Raise Lending Rates Without Alte...\n",
            "49996    Net Scheduled Inflows Of Rs 1,559.9 Crore Net ...\n",
            "49997    Rbi Calls Meet To Push Floating Rate Deposits ...\n",
            "49998    Sticky Loans Divide Consortiums Sticky Loans D...\n",
            "Name: Combined, Length: 49999, dtype: object\n"
          ]
        }
      ],
      "source": [
        "# Assign the combined text data to X\n",
        "X = df['Combined']\n",
        "print(X)"
      ]
    },
    {
      "cell_type": "code",
      "execution_count": null,
      "metadata": {
        "colab": {
          "base_uri": "https://localhost:8080/"
        },
        "id": "IPkOPnUtDwc-",
        "outputId": "baead73c-43d5-4d41-f6c9-aee9af4e7eea"
      },
      "outputs": [
        {
          "output_type": "stream",
          "name": "stdout",
          "text": [
            "0        1\n",
            "1        1\n",
            "2        1\n",
            "3        1\n",
            "4        1\n",
            "        ..\n",
            "49994    1\n",
            "49995    1\n",
            "49996    1\n",
            "49997    1\n",
            "49998    1\n",
            "Name: Label, Length: 49999, dtype: int64\n"
          ]
        }
      ],
      "source": [
        "# Assign the corresponding labels from the 'Label' column to y.\n",
        "y = df['Label']\n",
        "print(y)"
      ]
    },
    {
      "cell_type": "code",
      "execution_count": null,
      "metadata": {
        "colab": {
          "base_uri": "https://localhost:8080/"
        },
        "id": "gb1SeLvIfKIb",
        "outputId": "5672bc89-91d1-4f73-b728-1c4e220292f1"
      },
      "outputs": [
        {
          "output_type": "stream",
          "name": "stderr",
          "text": [
            "[nltk_data] Downloading package punkt to /root/nltk_data...\n",
            "[nltk_data]   Unzipping tokenizers/punkt.zip.\n",
            "[nltk_data] Downloading package stopwords to /root/nltk_data...\n",
            "[nltk_data]   Unzipping corpora/stopwords.zip.\n"
          ]
        },
        {
          "output_type": "execute_result",
          "data": {
            "text/plain": [
              "True"
            ]
          },
          "metadata": {},
          "execution_count": 12
        }
      ],
      "source": [
        "import nltk\n",
        "# Natural Language Toolkit(NLTK), is a suite of libraries and programs for symbolic and statistical natural language processing for English\n",
        "nltk.download('punkt')\n",
        "# The Punkt tokenizer is a data-driven sentence tokenizer it divides sentences into a list by using an unsupervised algorithm to build a model\n",
        "nltk.download('stopwords')\n",
        "# Stop word removal: Removes the common words in English so that they would not distort tasks such as word frequency analysis"
      ]
    },
    {
      "cell_type": "code",
      "execution_count": null,
      "metadata": {
        "id": "QQHG4l44_s0Z"
      },
      "outputs": [],
      "source": [
        "from keras.preprocessing.text import Tokenizer\n",
        "# converts text data into sequences or tokenizing text\n",
        "from sklearn.model_selection import train_test_split\n",
        "# splits data into training and testing sets\n",
        "from keras.preprocessing.sequence import pad_sequences\n",
        "# used for padding sequences to ensure uniform length\n",
        "from keras.preprocessing.text import text_to_word_sequence\n",
        "# used for tokenizing text into words\n",
        "from nltk.corpus import stopwords\n",
        "# stopwords are words that are typically removed from text during preprocessing because they don't carry much meaning\n",
        "from nltk.stem import PorterStemmer\n",
        "# used for stemming words to their root form it is a text normalization technique that reduces words to their base or root form\n",
        "from nltk.tokenize import word_tokenize\n",
        "#  it is used for tokenizing text into words."
      ]
    },
    {
      "cell_type": "code",
      "execution_count": null,
      "metadata": {
        "id": "x8M74XLFY0r4"
      },
      "outputs": [],
      "source": [
        "# Define function for text preprocessing\n",
        "def preprocess_text(text):\n",
        "\n",
        "    # Tokenizes the input text using the word_tokenize function from NLTK, splitting the text into individual tokens\n",
        "    tokens = word_tokenize(text)\n",
        "\n",
        "    # removes stopwords from the tokens these are common words (\"the\",\"is\",\"and\") that often do not carry significant meaning and\n",
        "    # are removed to focus on the important words in the text\n",
        "    stop_words = set(stopwords.words('english'))\n",
        "    filtered_tokens = [word for word in tokens if word.lower() not in stop_words]\n",
        "\n",
        "    # Stemming reduces words to their root or base form, which can help in reducing the vocabulary size and capturing the core meaning of words\n",
        "    stemmer = PorterStemmer()\n",
        "    stemmed_tokens = [stemmer.stem(token) for token in filtered_tokens]\n",
        "\n",
        "    # Join tokens back into text\n",
        "    processed_text = ' '.join(stemmed_tokens)\n",
        "\n",
        "    return processed_text\n",
        "\n",
        "# Preprocess text data\n",
        "X_processed = df['Combined'].apply(preprocess_text)\n",
        "\n",
        "# Tokenization\n",
        "tokenizer = Tokenizer()\n",
        "# initializes a tokenizer object.\n",
        "\n",
        "tokenizer.fit_on_texts(X_processed)\n",
        "# fits the tokenizer on the preprocessed text data\n",
        "\n",
        "X_sequences = tokenizer.texts_to_sequences(X_processed)\n",
        "# converts the preprocessed text data into sequences of integers.\n",
        "# Each word in the text is replaced by its corresponding integer index in the tokenizer's word index.\n",
        "# This step maps each word to its unique integer index in the vocabulary.\n",
        "\n",
        "X_padded = pad_sequences(X_sequences)\n",
        "# Pads the sequences to ensure uniform length.\n",
        "# This is because neural networks require inputs of the same length.\n",
        "# If the sequences are of varying lengths, padding ensures that they are all the same length by adding zeros\n",
        "# The pad_sequences function by default pads sequences to the longest sequence length in the dataset"
      ]
    },
    {
      "cell_type": "code",
      "execution_count": null,
      "metadata": {
        "id": "PDU6AJidivV_"
      },
      "outputs": [],
      "source": [
        "# Split the preprocessed data into training and testing sets\n",
        "X_train, X_test, y_train, y_test = train_test_split(X_padded, y, test_size=0.2, random_state=42)\n",
        "# train test ratio => 80:20"
      ]
    },
    {
      "cell_type": "code",
      "execution_count": null,
      "metadata": {
        "id": "pVbQnArgAJqK"
      },
      "outputs": [],
      "source": [
        "#  used to initialize a sequential neural network model. Layers can be added to this model one after the other\n",
        "from keras.models import Sequential\n",
        "\n",
        "# define the architecture of the neural network\n",
        "from keras.layers import LSTM, Embedding, Dense, SpatialDropout1D, Dropout\n",
        "\n",
        "# used to stop training the model early if certain conditions are met, such as no improvement in validation loss.\n",
        "from keras.callbacks import EarlyStopping\n",
        "\n",
        "from keras.optimizers import Adam\n",
        "# Adam optimizer, is a  optimization algorithm used for training neural networks.\n",
        "# It is an adaptive learning rate optimization algorithm that takes the advantages of stochastic gradient descent\n",
        "\n"
      ]
    },
    {
      "cell_type": "markdown",
      "metadata": {
        "id": "HyFRb2YwWXRx"
      },
      "source": [
        "Gradient descent is an iterative optimization algorithm used to find the minimum of a function (usually the loss function) by iteratively moving in the direction of the negative gradient of the function.\n",
        "\n",
        "In standard gradient descent, the gradient is computed using the entire training dataset, which can be computationally expensive, especially for large datasets.\n",
        "\n",
        "**Stochastic Gradient Descent** (SGD) is a variant of gradient descent that updates the model parameters using only a single randomly chosen data point (or a small batch of data points) from the training dataset at each iteration"
      ]
    },
    {
      "cell_type": "markdown",
      "metadata": {
        "id": "c7O-h-qhdrqK"
      },
      "source": [
        " **LSTM**: Long Short-Term Memory (LSTM) layer, a type of recurrent neural network (RNN) layer.\n",
        "\n",
        " **Dense**: Dense (fully connected) layer, which is a standard layer type where each neuron is connected to every neuron in the previous and subsequent layers.\n",
        "\n",
        "**Dropout layer**: A general dropout layer that randomly drops a fraction of input units to prevent overfitting.\n",
        "\n",
        "In natural language processing (NLP) tasks, words are represented as high-dimensional vectors in a continuous space, known as word embeddings."
      ]
    },
    {
      "cell_type": "markdown",
      "metadata": {
        "id": "PYlme-Xjfa5C"
      },
      "source": [
        "**LSTM model**\n",
        "\n"
      ]
    },
    {
      "cell_type": "code",
      "execution_count": null,
      "metadata": {
        "id": "iBUXl6-u_07M"
      },
      "outputs": [],
      "source": [
        "# initialize a sequential neural network model, where layers will bw added sequentially one after the other\n",
        "model = Sequential()"
      ]
    },
    {
      "cell_type": "markdown",
      "metadata": {
        "id": "ihurn9nnfmiv"
      },
      "source": [
        "Embedding Layer"
      ]
    },
    {
      "cell_type": "code",
      "execution_count": null,
      "metadata": {
        "id": "QlxJNXd3fl_t"
      },
      "outputs": [],
      "source": [
        "model.add(Embedding(input_dim=len(tokenizer.word_index)+1, output_dim=128, input_length=X_padded.shape[1]))"
      ]
    },
    {
      "cell_type": "markdown",
      "metadata": {
        "id": "yLlX3qSEftMV"
      },
      "source": [
        "**Embedding layer** is a building block for **NLP** tasks, enabling the learning and utilization of word embeddings in neural network models to **process** and **understand** **text** **data**\n",
        "\n",
        "Embedding layer converts integer-encoded sequences into dense vectors of fixed size, which are then passed to the LSTM layer.\n",
        "\n",
        "**input_dim** is the size of the vocabulary (number of unique words) plus one.\n",
        "\n",
        "**output_dim** is the dimensionality of the dense embedding.\n",
        "\n",
        "**input_length** is the length of input sequences (number of words in each input sequence)."
      ]
    },
    {
      "cell_type": "markdown",
      "metadata": {
        "id": "8xuynSZdgCs0"
      },
      "source": [
        "**Spatial Dropout Layer** Spatial 1D Dropout layer, which randomly drops a fraction of input units to prevent overfitting."
      ]
    },
    {
      "cell_type": "code",
      "execution_count": null,
      "metadata": {
        "id": "-ENS2QgTgIvo"
      },
      "outputs": [],
      "source": [
        "model.add(SpatialDropout1D(0.2))"
      ]
    },
    {
      "cell_type": "code",
      "execution_count": null,
      "metadata": {
        "id": "4WmqOwjogeYj"
      },
      "outputs": [],
      "source": [
        "# Add first LSTM Layer\n",
        "model.add(LSTM(64, dropout=0.2, recurrent_dropout=0.2, return_sequences=True))\n",
        "\n",
        "# Add second LSTM Layer\n",
        "model.add(LSTM(32, dropout=0.2, recurrent_dropout=0.2, return_sequences=True))\n",
        "\n",
        "# Add third LSTM Layer\n",
        "model.add(LSTM(16, dropout=0.2, recurrent_dropout=0.2 ))"
      ]
    },
    {
      "cell_type": "markdown",
      "metadata": {
        "id": "B2w_RvljZQZ5"
      },
      "source": [
        "**Kernel Regularizer ('l2')**: Regularization term applied to the weights of the LSTM units which adds a term to the loss function based on the squared magnitude of the weights. This helps prevent overfitting by discouraging large weights."
      ]
    },
    {
      "cell_type": "markdown",
      "metadata": {
        "id": "TZdNRWvkhENi"
      },
      "source": [
        "Long Short-Term Memory (LSTM) is a type of Recurrent Neural Network (RNN) that can learn and remember information over time.\n",
        "\n",
        "These are three are stacked LSTM layers\n",
        "\n",
        "64, 32 and 16 are the dimensions (number of units) of the LSTM layers.\n",
        "\n",
        "dropout and recurrent_dropout are dropout rates for input units and recurrent connections\n",
        "\n",
        "return_sequences=True ensures that each LSTM layer returns the full sequence of outputs rather than just the last output."
      ]
    },
    {
      "cell_type": "markdown",
      "metadata": {
        "id": "OXxR8DwDFXkQ"
      },
      "source": [
        "**LSTM Layers creation**"
      ]
    },
    {
      "cell_type": "markdown",
      "metadata": {
        "id": "wQEsHzbJE_QG"
      },
      "source": [
        "These are two fully connected (Dense) layers added after the LSTM layers\n",
        "where each neuron is connected to every neuron in the previous and subsequent layers.\n",
        "\n",
        "The first Dense layer has 64 units and uses ReLU activation function."
      ]
    },
    {
      "cell_type": "code",
      "execution_count": null,
      "metadata": {
        "id": "IMCsSq8Nggrz"
      },
      "outputs": [],
      "source": [
        "model.add(Dense(32, activation='relu', kernel_regularizer='l2'))  # L2 regularization\n",
        "model.add(Dropout(0.5))  # Dropout layer for regularization"
      ]
    },
    {
      "cell_type": "markdown",
      "metadata": {
        "id": "zZYkfwUBEQ2x"
      },
      "source": [
        "ReLU is a used for hidden layers in deep neural networks due to its simplicity\n",
        "ReLU stands for Rectified Linear Unit.\n",
        "The ReLU activation function is defined as:\n",
        "\n",
        "f(x)=max(0,x)\n",
        "\n",
        "In other words, it returns the input x if it is positive, and zero otherwise\n",
        "\n",
        "it looks like a straight line with a slope of 1 for x≥0,\n",
        "\n",
        "and zero for x<0."
      ]
    },
    {
      "cell_type": "markdown",
      "metadata": {
        "id": "5pr_ZCVLFJAv"
      },
      "source": [
        "The second Dense layer has 1 unit and uses sigmoid activation function"
      ]
    },
    {
      "cell_type": "code",
      "execution_count": null,
      "metadata": {
        "id": "Gy1dkQs-FMkt"
      },
      "outputs": [],
      "source": [
        "model.add(Dense(1, activation='sigmoid'))"
      ]
    },
    {
      "cell_type": "markdown",
      "metadata": {
        "id": "tvBlOiUIaGtp"
      },
      "source": [
        "The sigmoid function maps the input\n",
        "x to a value between 0 and 1, which can be interpreted as a probability it squashes the input to the range\n",
        "(\n",
        "0\n",
        ",\n",
        "1\n",
        ")\n",
        "(0,1), making it suitable for binary classification where the output represents the probability of belonging to one class (e.g., class 1) versus the other class (e.g., class 0)."
      ]
    },
    {
      "cell_type": "markdown",
      "metadata": {
        "id": "3CMZhO5OFhfH"
      },
      "source": [
        " Sigmoid function brings the output to the range [0, 1], making it suitable for binary classification tasks where the output represents a probability."
      ]
    },
    {
      "cell_type": "code",
      "execution_count": null,
      "metadata": {
        "id": "4yVPsSvW_6kZ"
      },
      "outputs": [],
      "source": [
        "# initialize an instance of the Adam optimizer with a learning rate of 0.0001.\n",
        "# Adam is an adaptive optimization algorithm that  is used in training deep neural networks due to its efficiency in handling sparse gradients\n",
        "optimizer = Adam(learning_rate=0.001)\n",
        "\n",
        "model.compile(loss='binary_crossentropy', optimizer=optimizer, metrics=['accuracy'])\n",
        "# loss='binary_crossentropy' measures the difference between the predicted probability distribution and the true binary labels\n",
        "# optimizer=optimizer: used for training the model and uses the Adam optimizer instance\n",
        "# metrics=['accuracy'] specifies the evaluation metric to be used during training"
      ]
    },
    {
      "cell_type": "code",
      "execution_count": null,
      "metadata": {
        "id": "256NLKfN_8Df"
      },
      "outputs": [],
      "source": [
        "# EarlyStopping callback is used to prevent overfitting and to stop training when the model starts to overfit the training data or fails to improve on the training set\n",
        "early_stopping = EarlyStopping(monitor='val_loss', patience=10, restore_best_weights=True)"
      ]
    },
    {
      "cell_type": "markdown",
      "metadata": {
        "id": "xVDY8eF4L-3g"
      },
      "source": [
        "**LSTM model complete**"
      ]
    },
    {
      "cell_type": "code",
      "source": [
        "model.summary()"
      ],
      "metadata": {
        "colab": {
          "base_uri": "https://localhost:8080/"
        },
        "id": "h8mbilGA7NWK",
        "outputId": "cbc8a96b-d54f-45d7-eb7c-03570e16e5cd"
      },
      "execution_count": null,
      "outputs": [
        {
          "output_type": "stream",
          "name": "stdout",
          "text": [
            "Model: \"sequential\"\n",
            "_________________________________________________________________\n",
            " Layer (type)                Output Shape              Param #   \n",
            "=================================================================\n",
            " embedding (Embedding)       (None, 37, 128)           2435200   \n",
            "                                                                 \n",
            " spatial_dropout1d (Spatial  (None, 37, 128)           0         \n",
            " Dropout1D)                                                      \n",
            "                                                                 \n",
            " lstm (LSTM)                 (None, 37, 64)            49408     \n",
            "                                                                 \n",
            " lstm_1 (LSTM)               (None, 37, 32)            12416     \n",
            "                                                                 \n",
            " lstm_2 (LSTM)               (None, 16)                3136      \n",
            "                                                                 \n",
            " dense (Dense)               (None, 32)                544       \n",
            "                                                                 \n",
            " dropout (Dropout)           (None, 32)                0         \n",
            "                                                                 \n",
            " dense_1 (Dense)             (None, 1)                 33        \n",
            "                                                                 \n",
            "=================================================================\n",
            "Total params: 2500737 (9.54 MB)\n",
            "Trainable params: 2500737 (9.54 MB)\n",
            "Non-trainable params: 0 (0.00 Byte)\n",
            "_________________________________________________________________\n"
          ]
        }
      ]
    },
    {
      "cell_type": "code",
      "execution_count": null,
      "metadata": {
        "colab": {
          "base_uri": "https://localhost:8080/"
        },
        "id": "UZ9M9FPE_-kH",
        "outputId": "afd5516e-29a1-4e4d-d2b4-94092ff707d9"
      },
      "outputs": [
        {
          "output_type": "stream",
          "name": "stdout",
          "text": [
            "Epoch 1/20\n",
            "563/563 [==============================] - 127s 205ms/step - loss: 0.5235 - accuracy: 0.8110 - val_loss: 0.3260 - val_accuracy: 0.8750\n",
            "Epoch 2/20\n",
            "563/563 [==============================] - 114s 203ms/step - loss: 0.3026 - accuracy: 0.8861 - val_loss: 0.2871 - val_accuracy: 0.8880\n",
            "Epoch 3/20\n",
            "563/563 [==============================] - 116s 206ms/step - loss: 0.2425 - accuracy: 0.9136 - val_loss: 0.2629 - val_accuracy: 0.9028\n",
            "Epoch 4/20\n",
            "563/563 [==============================] - 111s 197ms/step - loss: 0.1967 - accuracy: 0.9342 - val_loss: 0.2696 - val_accuracy: 0.9000\n",
            "Epoch 5/20\n",
            "563/563 [==============================] - 111s 197ms/step - loss: 0.1594 - accuracy: 0.9501 - val_loss: 0.3007 - val_accuracy: 0.8985\n",
            "Epoch 6/20\n",
            "563/563 [==============================] - 111s 198ms/step - loss: 0.1356 - accuracy: 0.9587 - val_loss: 0.3193 - val_accuracy: 0.8945\n",
            "Epoch 7/20\n",
            "563/563 [==============================] - 114s 203ms/step - loss: 0.1120 - accuracy: 0.9664 - val_loss: 0.3790 - val_accuracy: 0.8913\n",
            "Epoch 8/20\n",
            "563/563 [==============================] - 111s 198ms/step - loss: 0.0961 - accuracy: 0.9724 - val_loss: 0.4163 - val_accuracy: 0.8907\n",
            "Epoch 9/20\n",
            "563/563 [==============================] - 113s 201ms/step - loss: 0.0824 - accuracy: 0.9778 - val_loss: 0.4342 - val_accuracy: 0.8875\n",
            "Epoch 10/20\n",
            "563/563 [==============================] - 114s 202ms/step - loss: 0.0772 - accuracy: 0.9789 - val_loss: 0.4217 - val_accuracy: 0.8910\n",
            "Epoch 11/20\n",
            "563/563 [==============================] - 112s 199ms/step - loss: 0.0653 - accuracy: 0.9828 - val_loss: 0.4340 - val_accuracy: 0.8850\n",
            "Epoch 12/20\n",
            "563/563 [==============================] - 114s 203ms/step - loss: 0.0593 - accuracy: 0.9842 - val_loss: 0.4945 - val_accuracy: 0.8885\n",
            "Epoch 13/20\n",
            "563/563 [==============================] - 113s 200ms/step - loss: 0.0531 - accuracy: 0.9866 - val_loss: 0.4950 - val_accuracy: 0.8765\n"
          ]
        }
      ],
      "source": [
        "# Train the model on training data set\n",
        "history = model.fit(X_train, y_train, epochs=20, batch_size=64, validation_split=0.1, callbacks=[early_stopping])\n",
        "\n",
        "# Input X_train and y_train\n",
        "# history = model.fit(...):  fit method trains the model on the provided training data (X_train, y_train) for the specified number of epochs\n",
        "# it also uses a portion of the training data for validation to monitor the model's performance."
      ]
    },
    {
      "cell_type": "code",
      "execution_count": null,
      "metadata": {
        "id": "5CHF3bWnAQ48"
      },
      "outputs": [],
      "source": [
        "## Import library to check accuracy\n",
        "from sklearn.metrics import classification_report, confusion_matrix, accuracy_score,roc_auc_score"
      ]
    },
    {
      "cell_type": "code",
      "execution_count": null,
      "metadata": {
        "colab": {
          "base_uri": "https://localhost:8080/"
        },
        "id": "_Qp5tlSjB3Wu",
        "outputId": "f8cc94a5-c8df-4975-bb01-362b122d11f9"
      },
      "outputs": [
        {
          "output_type": "stream",
          "name": "stdout",
          "text": [
            "313/313 [==============================] - 8s 23ms/step\n",
            "Accuracy: 0.9005\n"
          ]
        }
      ],
      "source": [
        "# Evaluate the model\n",
        "y_pred_probs = model.predict(X_test)\n",
        "y_pred = (y_pred_probs > 0.5).astype(int)\n",
        "\n",
        "# Accuracy\n",
        "accuracy = accuracy_score(y_test, y_pred)\n",
        "print(\"Accuracy:\", accuracy)\n"
      ]
    },
    {
      "cell_type": "markdown",
      "metadata": {
        "id": "-x9WWSSb4JXq"
      },
      "source": [
        "Accuracy is 89.3%\n"
      ]
    },
    {
      "cell_type": "code",
      "execution_count": null,
      "metadata": {
        "colab": {
          "base_uri": "https://localhost:8080/"
        },
        "id": "cS_F_ku7wtBD",
        "outputId": "13df2ab3-ddc6-4084-a15a-5fcf4b0b018a"
      },
      "outputs": [
        {
          "output_type": "stream",
          "name": "stdout",
          "text": [
            "Confusion Matrix:\n",
            "[[1533  594]\n",
            " [ 401 7472]]\n"
          ]
        }
      ],
      "source": [
        "# Confusion Matrix\n",
        "conf_matrix = confusion_matrix(y_test, y_pred)\n",
        "print(\"Confusion Matrix:\")\n",
        "print(conf_matrix)"
      ]
    },
    {
      "cell_type": "markdown",
      "metadata": {
        "id": "j2NIcz1KbOmY"
      },
      "source": [
        "True Positives (TP): The number of instances that were correctly predicted as positive by the model **7313**.\n",
        "\n",
        "False Positives (FP): The number of instances that were incorrectly predicted as positive by the model **507**\n",
        "\n",
        "(i.e., the model predicted positive when the actual label was negative).\n",
        "\n",
        "False Negatives (FN): The number of instances that were incorrectly predicted as negative by the model **560**\n",
        "\n",
        "(i.e., the model predicted negative when the actual label was positive).\n",
        "\n",
        "True Negatives (TN): The number of instances that were correctly predicted as negative by the model **1620**."
      ]
    },
    {
      "cell_type": "code",
      "execution_count": null,
      "metadata": {
        "colab": {
          "base_uri": "https://localhost:8080/"
        },
        "id": "HjnZWf4Bwvho",
        "outputId": "4e4367a1-4175-447f-8842-e80827e2a1ac"
      },
      "outputs": [
        {
          "output_type": "stream",
          "name": "stdout",
          "text": [
            "Classification Report:\n"
          ]
        },
        {
          "output_type": "execute_result",
          "data": {
            "text/plain": [
              "'              precision    recall  f1-score   support\\n\\n           0       0.79      0.72      0.75      2127\\n           1       0.93      0.95      0.94      7873\\n\\n    accuracy                           0.90     10000\\n   macro avg       0.86      0.83      0.85     10000\\nweighted avg       0.90      0.90      0.90     10000\\n'"
            ],
            "application/vnd.google.colaboratory.intrinsic+json": {
              "type": "string"
            }
          },
          "metadata": {},
          "execution_count": 30
        }
      ],
      "source": [
        "# Classification Report\n",
        "print(\"Classification Report:\")\n",
        "classification_report(y_test, y_pred)\n"
      ]
    },
    {
      "cell_type": "markdown",
      "metadata": {
        "id": "9S5Ay5iCcgGP"
      },
      "source": [
        "Precision: Proportion of correctly predicted positive cases out of all predicted positive cases 0.72 for class 0 and 0.92 for class 1.\n",
        "\n",
        "Recall: Proportion of correctly predicted positive cases out of all actual positive cases.\n",
        "\n",
        "F1-score: Harmonic mean of precision and recall, balancing both metrics.\n",
        "\n",
        "Accuracy: Proportion of correctly predicted cases out of all cases.\n",
        "\n",
        "Support: Number of instances of each class in the dataset."
      ]
    },
    {
      "cell_type": "code",
      "execution_count": null,
      "metadata": {
        "colab": {
          "base_uri": "https://localhost:8080/"
        },
        "id": "3CrzcNDxSVJZ",
        "outputId": "265a9dd1-ed9e-496a-816e-c99577a3c7df"
      },
      "outputs": [
        {
          "output_type": "display_data",
          "data": {
            "text/plain": [
              "<Figure size 800x600 with 1 Axes>"
            ],
            "image/png": "[encoded data removed]"
          },
          "metadata": {}
        }
      ],
      "source": [
        "import matplotlib.pyplot as plt\n",
        "import seaborn as sns\n",
        "from sklearn.metrics import confusion_matrix\n",
        "\n",
        "# Calculate confusion matrix\n",
        "conf_matrix = confusion_matrix(y_test, y_pred)\n",
        "\n",
        "# Plot confusion matrix heatmap\n",
        "plt.figure(figsize=(8, 6))\n",
        "sns.heatmap(conf_matrix, annot=True, cmap='Blues', fmt='g', cbar=False)\n",
        "plt.title('Confusion Matrix')\n",
        "plt.xlabel('Predicted Labels')\n",
        "plt.ylabel('True Labels')\n",
        "plt.show()\n"
      ]
    }
  ],
  "metadata": {
    "colab": {
      "provenance": []
    },
    "kernelspec": {
      "display_name": "Python 3",
      "name": "python3"
    },
    "language_info": {
      "name": "python"
    }
  },
  "nbformat": 4,
  "nbformat_minor": 0
}